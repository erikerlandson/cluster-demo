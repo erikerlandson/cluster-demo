{
 "cells": [
  {
   "cell_type": "code",
   "execution_count": null,
   "metadata": {},
   "outputs": [],
   "source": [
    "import requests\n",
    "from urllib.parse import urlencode\n",
    "import json\n",
    "import cloudpickle\n",
    "import base64"
   ]
  },
  {
   "cell_type": "code",
   "execution_count": null,
   "metadata": {},
   "outputs": [],
   "source": [
    "DEFAULT_BASE_URL = \"http://clusterdemo:8080/{function}\""
   ]
  },
  {
   "cell_type": "code",
   "execution_count": null,
   "metadata": {},
   "outputs": [],
   "source": [
    "def anomaly_score(text, url = None):\n",
    "    url = (url or (DEFAULT_BASE_URL.format(function=\"predict\")))\n",
    "    payload = {\"args\" : base64.b64encode(cloudpickle.dumps(text))}\n",
    "    response = requests.post(url, data=payload)\n",
    "    return response.text"
   ]
  },
  {
   "cell_type": "code",
   "execution_count": null,
   "metadata": {},
   "outputs": [],
   "source": [
    "anomaly_score(\"I loved these tootsie rolls!\")"
   ]
  },
  {
   "cell_type": "code",
   "execution_count": null,
   "metadata": {},
   "outputs": [],
   "source": [
    "anomaly_score(\"\"\"I'm not a big fan of sandwiches as a general category of lunch options.\n",
    "If given the option, and someone else is cooking, I'll eat something--really almost anything--else.\n",
    "The main exception to this is the old childhood classic, the peanut-butter and jelly sandwich.\n",
    "I haven't had a good PBJ in YEARS, something I'm sure most of you can probably sympathize with.\n",
    "The primary \"pro\" that I have for this bread is that it makes wonderful PBJs.\n",
    "I'll admit, it's not like the kind Mom would make us on that chewy, wonderful, Home Pride bread.\n",
    "But it still does make good PBJs.\"\"\")"
   ]
  },
  {
   "cell_type": "code",
   "execution_count": null,
   "metadata": {},
   "outputs": [],
   "source": []
  }
 ],
 "metadata": {
  "kernelspec": {
   "display_name": "Python 3",
   "language": "python",
   "name": "python3"
  },
  "language_info": {
   "codemirror_mode": {
    "name": "ipython",
    "version": 3
   },
   "file_extension": ".py",
   "mimetype": "text/x-python",
   "name": "python",
   "nbconvert_exporter": "python",
   "pygments_lexer": "ipython3",
   "version": "3.6.3"
  }
 },
 "nbformat": 4,
 "nbformat_minor": 2
}
